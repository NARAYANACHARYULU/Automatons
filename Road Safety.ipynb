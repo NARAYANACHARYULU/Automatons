{
 "cells": [
  {
   "cell_type": "code",
   "execution_count": 70,
   "metadata": {},
   "outputs": [],
   "source": [
    "import requests\n",
    "import numpy as np\n",
    "import cv2\n",
    "import datetime"
   ]
  },
  {
   "cell_type": "code",
   "execution_count": 71,
   "metadata": {},
   "outputs": [],
   "source": [
    "def draw_detections(img, rects, thickness = 1):\n",
    "    for x, y, w, h in rects:\n",
    "        # the HOG detector returns slightly larger rectangles than the real objects.\n",
    "        # so we slightly shrink the rectangles to get a nicer output.\n",
    "        pad_w, pad_h = int(0.15*w), int(0.05*h)\n",
    "        cv2.rectangle(img, (x+pad_w, y+pad_h), (x+w-pad_w, y+h-pad_h), (0, 255, 0), thickness)\n",
    "    "
   ]
  },
  {
   "cell_type": "code",
   "execution_count": 72,
   "metadata": {},
   "outputs": [
    {
     "name": "stdout",
     "output_type": "stream",
     "text": [
      "Drowsy!!!\n",
      "Drowsy!!!\n",
      "Drowsy!!!\n",
      "Drowsy!!!\n",
      "Drowsy!!!\n",
      "Drowsy!!!\n",
      "Drowsy!!!\n",
      "Drowsy!!!\n",
      "Drowsy!!!\n",
      "Drowsy!!!\n",
      "Drowsy!!!\n",
      "Drowsy!!!\n",
      "Drowsy!!!\n",
      "Drowsy!!!\n",
      "Drowsy!!!\n",
      "Drowsy!!!\n",
      "Drowsy!!!\n",
      "Drowsy!!!\n",
      "Drowsy!!!\n",
      "Drowsy!!!\n",
      "Drowsy!!!\n"
     ]
    }
   ],
   "source": [
    "cap=cv2.VideoCapture(0)\n",
    "stopPath=\"C:/Users/Shivram/Miniconda3/envs/nnseries/Lib/site-packages/cv2/data/haarcascade_stop.xml\"\n",
    "speedPath=\"C:/Users/Shivram/Miniconda3/envs/nnseries/Lib/site-packages/cv2/data/haarcascade_trafficsigns2.xml\"\n",
    "faceCascade = cv2.CascadeClassifier(\"C:/Users/Shivram/Miniconda3/envs/nnseries/Lib/site-packages/cv2/data/haarcascade_frontalface_default.xml\")\n",
    "eye_cascade = cv2.CascadeClassifier(\"C:/Users/Shivram/Miniconda3/envs/nnseries/Lib/site-packages/cv2/data/haarcascade_eye.xml\")\n",
    "stopCascade = cv2.CascadeClassifier(stopPath)\n",
    "speedCascade = cv2.CascadeClassifier(speedPath)\n",
    "font=cv2.FONT_HERSHEY_SIMPLEX\n",
    "if __name__ == '__main__':\n",
    "    hog = cv2.HOGDescriptor()\n",
    "    hog.setSVMDetector( cv2.HOGDescriptor_getDefaultPeopleDetector() )\n",
    "ft=0\n",
    "while True:\n",
    "    img_res = requests.get(\"http://192.168.43.80:8080/shot.jpg\")\n",
    "    img_arr = np.array(bytearray(img_res.content), dtype = np.uint8)\n",
    "    frame = cv2.imdecode(img_arr,-1)\n",
    "    ret,frame2=cap.read()\n",
    "\n",
    "    found,w=hog.detectMultiScale(frame, winStride=(8,8), padding=(32,32), scale=1.05)\n",
    "    draw_detections(frame,found)\n",
    "        \n",
    "    gray = cv2.cvtColor(frame, cv2.COLOR_BGR2GRAY)\n",
    "    gray2 = cv2.cvtColor(frame2, cv2.COLOR_BGR2GRAY)\n",
    "    \n",
    "    stop = stopCascade.detectMultiScale(gray,scaleFactor=1.1,minNeighbors=5,minSize=(30,30),flags=cv2.CASCADE_SCALE_IMAGE)\n",
    "    for (x, y, w, h) in stop:\n",
    "        cv2.rectangle(frame, (x, y), (x+w, y+h), (0, 255, 0), 2)\n",
    "        cv2.putText(frame,'Stop Sign',(x,y), font, 1,(0,255,0),2,cv2.LINE_AA)\n",
    "        \n",
    "    speed = speedCascade.detectMultiScale(gray,scaleFactor=1.1,minNeighbors=5,minSize=(30,30),flags=cv2.CASCADE_SCALE_IMAGE)\n",
    "    for (x, y, w, h) in speed:\n",
    "        cv2.rectangle(frame, (x, y), (x+w, y+h), (255, 0, 0), 2)    \n",
    "        cv2.putText(frame,'Speed Sign',(x,y), font, 1,(255,0,0),2,cv2.LINE_AA)\n",
    "        \n",
    "    faces = faceCascade.detectMultiScale(gray2,scaleFactor=1.1,minNeighbors=5,minSize=(30, 30),flags=cv2.CASCADE_SCALE_IMAGE)\n",
    "    for (x, y, w, h) in faces:\n",
    "        cv2.rectangle(frame2, (x, y), (x+w, y+h), (0, 255, 0), 2)\n",
    "        cv2.putText(frame2,'Face',(x,y),cv2.FONT_HERSHEY_SIMPLEX,1,(0,255,0),2,cv2.LINE_AA)\n",
    "    \n",
    "    eyes = eye_cascade.detectMultiScale(gray2,scaleFactor=1.1,minNeighbors=5,minSize=(30, 30),flags=cv2.CASCADE_SCALE_IMAGE)\n",
    "    for (x, y, w, h) in eyes:\n",
    "        cv2.rectangle(frame2, (x, y), (x+w, y+h), (255, 255, 0), 2)\n",
    "        cv2.putText(frame2,'Eyes',(x,y),cv2.FONT_HERSHEY_SIMPLEX,1,(255,255,0),1,cv2.LINE_AA)    \n",
    "    if((len(eyes)==0) and (len(faces)!=0)):\n",
    "        if(ft==0):\n",
    "            chec=datetime.datetime.now()\n",
    "            ft=1\n",
    "    else:\n",
    "        ft=0\n",
    "        \n",
    "    if((datetime.datetime.now()-chec)>=(datetime.timedelta(seconds=2))):\n",
    "        print(\"Drowsy!!!\")\n",
    "\n",
    "    \n",
    "    cv2.imshow('Video', frame)\n",
    "    cv2.imshow('Videos',frame2)\n",
    "    if cv2.waitKey(1) & 0xFF == ord('q'):\n",
    "        break\n",
    "cap.release()\n",
    "cv2.destroyAllWindows()        "
   ]
  },
  {
   "cell_type": "code",
   "execution_count": null,
   "metadata": {},
   "outputs": [],
   "source": []
  },
  {
   "cell_type": "code",
   "execution_count": null,
   "metadata": {},
   "outputs": [],
   "source": []
  },
  {
   "cell_type": "code",
   "execution_count": null,
   "metadata": {},
   "outputs": [],
   "source": []
  }
 ],
 "metadata": {
  "kernelspec": {
   "display_name": "Python 3",
   "language": "python",
   "name": "python3"
  },
  "language_info": {
   "codemirror_mode": {
    "name": "ipython",
    "version": 3
   },
   "file_extension": ".py",
   "mimetype": "text/x-python",
   "name": "python",
   "nbconvert_exporter": "python",
   "pygments_lexer": "ipython3",
   "version": "3.6.6"
  }
 },
 "nbformat": 4,
 "nbformat_minor": 2
}
